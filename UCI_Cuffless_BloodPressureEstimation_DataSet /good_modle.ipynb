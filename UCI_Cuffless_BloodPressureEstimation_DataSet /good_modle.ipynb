{
 "cells": [
  {
   "cell_type": "code",
   "execution_count": 3,
   "metadata": {},
   "outputs": [
    {
     "ename": "ValueError",
     "evalue": "No '.mat' files with extension 'test' found in 'test_data' folder.",
     "output_type": "error",
     "traceback": [
      "\u001b[0;31m---------------------------------------------------------------------------\u001b[0m",
      "\u001b[0;31mValueError\u001b[0m                                Traceback (most recent call last)",
      "\u001b[0;32m/var/folders/0q/_xf188_x6x99vcx9_69wqhnc0000gn/T/ipykernel_90988/1484404300.py\u001b[0m in \u001b[0;36m<module>\u001b[0;34m\u001b[0m\n\u001b[1;32m     58\u001b[0m     \u001b[0mtgt_feature_size\u001b[0m \u001b[0;34m=\u001b[0m \u001b[0;36m3\u001b[0m\u001b[0;34m\u001b[0m\u001b[0;34m\u001b[0m\u001b[0m\n\u001b[1;32m     59\u001b[0m     \u001b[0mnearby_num\u001b[0m \u001b[0;34m=\u001b[0m \u001b[0;36m10\u001b[0m\u001b[0;34m\u001b[0m\u001b[0;34m\u001b[0m\u001b[0m\n\u001b[0;32m---> 60\u001b[0;31m     \u001b[0mjudge\u001b[0m\u001b[0;34m(\u001b[0m\u001b[0mdata_dir\u001b[0m\u001b[0;34m,\u001b[0m \u001b[0msrc_feature_size\u001b[0m\u001b[0;34m,\u001b[0m \u001b[0mtgt_feature_size\u001b[0m\u001b[0;34m,\u001b[0m \u001b[0mnearby_num\u001b[0m\u001b[0;34m)\u001b[0m\u001b[0;34m\u001b[0m\u001b[0;34m\u001b[0m\u001b[0m\n\u001b[0m",
      "\u001b[0;32m/var/folders/0q/_xf188_x6x99vcx9_69wqhnc0000gn/T/ipykernel_90988/1484404300.py\u001b[0m in \u001b[0;36mjudge\u001b[0;34m(data_dir, src_feature_size, tgt_feature_size, nearby_num)\u001b[0m\n\u001b[1;32m     10\u001b[0m                 \u001b[0minfer_data_path\u001b[0m \u001b[0;34m=\u001b[0m \u001b[0mos\u001b[0m\u001b[0;34m.\u001b[0m\u001b[0mpath\u001b[0m\u001b[0;34m.\u001b[0m\u001b[0mjoin\u001b[0m\u001b[0;34m(\u001b[0m\u001b[0mroot\u001b[0m\u001b[0;34m,\u001b[0m \u001b[0mx\u001b[0m\u001b[0;34m)\u001b[0m\u001b[0;34m\u001b[0m\u001b[0;34m\u001b[0m\u001b[0m\n\u001b[1;32m     11\u001b[0m     \u001b[0;32mif\u001b[0m \u001b[0minfer_data_path\u001b[0m \u001b[0;32mis\u001b[0m \u001b[0;32mNone\u001b[0m\u001b[0;34m:\u001b[0m\u001b[0;34m\u001b[0m\u001b[0;34m\u001b[0m\u001b[0m\n\u001b[0;32m---> 12\u001b[0;31m         \u001b[0;32mraise\u001b[0m \u001b[0mValueError\u001b[0m\u001b[0;34m(\u001b[0m\u001b[0;34m\"No '.mat' files with extension 'test' found in 'test_data' folder.\"\u001b[0m\u001b[0;34m)\u001b[0m\u001b[0;34m\u001b[0m\u001b[0;34m\u001b[0m\u001b[0m\n\u001b[0m\u001b[1;32m     13\u001b[0m     \u001b[0mprint\u001b[0m\u001b[0;34m(\u001b[0m\u001b[0;34m'infer_data_path'\u001b[0m\u001b[0;34m)\u001b[0m\u001b[0;34m\u001b[0m\u001b[0;34m\u001b[0m\u001b[0m\n\u001b[1;32m     14\u001b[0m     \u001b[0mprint\u001b[0m\u001b[0;34m(\u001b[0m\u001b[0minfer_data_path\u001b[0m\u001b[0;34m)\u001b[0m\u001b[0;34m\u001b[0m\u001b[0;34m\u001b[0m\u001b[0m\n",
      "\u001b[0;31mValueError\u001b[0m: No '.mat' files with extension 'test' found in 'test_data' folder."
     ]
    }
   ],
   "source": [
    "import os\n",
    "import scipy.io as scio\n",
    "import numpy as np\n",
    "\n",
    "def judge(data_dir, src_feature_size, tgt_feature_size, nearby_num):\n",
    "    infer_data_path = None  # set to None by default\n",
    "    for root, _, name in os.walk(os.path.join(data_dir, 'test_data')):\n",
    "        for x in name:\n",
    "            if x.split('.')[-1] == 'mat' and x.split('.')[-2].split('_')[-1] == 'test':\n",
    "                infer_data_path = os.path.join(root, x)\n",
    "    if infer_data_path is None:\n",
    "        raise ValueError(\"No '.mat' files with extension 'test' found in 'test_data' folder.\")\n",
    "    print('infer_data_path')\n",
    "    print(infer_data_path)\n",
    "    infer_data = scio.loadmat(infer_data_path)['data']\n",
    "    print('infer_data.shape[0]')\n",
    "    print(infer_data.shape[0])\n",
    "    for root, _, name in os.walk(os.path.join(data_dir, 'train_data')):\n",
    "        for x in name:\n",
    "            if x.split('.')[-1] == 'mat':\n",
    "                train_data_path = os.path.join(root, x)\n",
    "    train_data = scio.loadmat(train_data_path)['data']\n",
    "    print('train_data_path')\n",
    "    print(train_data_path)\n",
    "    error_array = np.zeros(\n",
    "        (infer_data.shape[0], 2))  # the first for calculation of src difference, the second is for target\n",
    "    all_nearby_array = np.zeros(\n",
    "        (infer_data.shape[0], nearby_num, infer_data.shape[1], src_feature_size + tgt_feature_size))\n",
    "    for i in range(infer_data.shape[0]):\n",
    "        current_infer_src = infer_data[i, :, :src_feature_size]\n",
    "        diff_src_data = np.zeros((train_data.shape[0], train_data.shape[1], src_feature_size))\n",
    "        for j in range(train_data.shape[0]):\n",
    "            diff_src_data[j, :, :src_feature_size] = train_data[j, :, :src_feature_size] - current_infer_src\n",
    "        diff_src_data = np.power(diff_src_data, 2)\n",
    "        diff_src_data = np.sum(diff_src_data, axis=(1, 2))\n",
    "        nearby_index = diff_src_data.argsort()[:nearby_num]\n",
    "        nearby_array = train_data[nearby_index]\n",
    "        #\n",
    "        nearby_src = nearby_array[:, :, :src_feature_size]\n",
    "        nearby_src_mean = np.mean(nearby_src, axis=0)\n",
    "        nearby_src_error = nearby_src - np.repeat(np.expand_dims(nearby_src_mean, axis=0), nearby_num, axis=0)\n",
    "        nearby_src_error = np.mean(np.power(nearby_src_error, 2))\n",
    "        error_array[i, 0] = nearby_src_error\n",
    "        nearby_tgt = nearby_array[:, :, src_feature_size:src_feature_size + tgt_feature_size]\n",
    "        nearby_tgt_mean = np.mean(nearby_tgt, axis=0)\n",
    "        nearby_tgt_error = nearby_tgt - np.repeat(np.expand_dims(nearby_tgt_mean, axis=0), nearby_num, axis=0)\n",
    "        nearby_tgt_error = np.mean(np.power(nearby_tgt_error, 2))\n",
    "        error_array[i, 1] = nearby_tgt_error\n",
    "        all_nearby_array[i, :, :] = nearby_array\n",
    "        print(i)\n",
    "    scio.savemat(os.path.join(data_dir, 'nearby_array.mat'), {'all_nearby_array': all_nearby_array})\n",
    "    scio.savemat(os.path.join(data_dir, 'nearby_error.mat'), {'error': error_array})\n",
    "\n",
    "\n",
    "if __name__ == '__main__':\n",
    "    data_dir = '/Users/jinyanwei/Desktop/BP_Model/UCI_Cuffless_BloodPressureEstimation_DataSet /Part_1_data_0'\n",
    "    src_feature_size = 513\n",
    "    tgt_feature_size = 3\n",
    "    nearby_num = 10\n",
    "    judge(data_dir, src_feature_size, tgt_feature_size, nearby_num)\n"
   ]
  },
  {
   "cell_type": "code",
   "execution_count": null,
   "metadata": {},
   "outputs": [],
   "source": []
  }
 ],
 "metadata": {
  "kernelspec": {
   "display_name": "base",
   "language": "python",
   "name": "python3"
  },
  "language_info": {
   "codemirror_mode": {
    "name": "ipython",
    "version": 3
   },
   "file_extension": ".py",
   "mimetype": "text/x-python",
   "name": "python",
   "nbconvert_exporter": "python",
   "pygments_lexer": "ipython3",
   "version": "3.9.7"
  },
  "orig_nbformat": 4
 },
 "nbformat": 4,
 "nbformat_minor": 2
}
