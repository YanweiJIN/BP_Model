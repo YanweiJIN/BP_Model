{
 "cells": [
  {
   "cell_type": "code",
   "execution_count": 1,
   "metadata": {},
   "outputs": [],
   "source": [
    "import numpy as np\n",
    "import scipy.io as sio\n",
    "import os\n",
    "import re\n",
    "import pandas as pd\n",
    "import matplotlib.pyplot as plt"
   ]
  },
  {
   "cell_type": "code",
   "execution_count": 3,
   "metadata": {},
   "outputs": [
    {
     "name": "stdout",
     "output_type": "stream",
     "text": [
      "{'__header__': b'MATLAB 5.0 MAT-file, Platform: GLNXA64, Created on: Fri Jul 20 14:37:23 2018', '__version__': '1.0', '__globals__': [], 'data': array([[ 7.30000000e+01, -4.43725586e-01, -1.31744385e+00],\n",
      "       [ 7.20000000e+01, -4.41894531e-01, -1.34582520e+00],\n",
      "       [ 7.10000000e+01, -4.44335938e-01, -1.37390137e+00],\n",
      "       ...,\n",
      "       [ 6.30000000e+01, -4.27246094e-03,  1.65771484e+00],\n",
      "       [ 6.30000000e+01, -6.10351562e-03,  1.64337158e+00],\n",
      "       [ 6.30000000e+01, -7.93457031e-03,  1.62689209e+00]])}\n"
     ]
    }
   ],
   "source": [
    "data = sio.loadmat(os.path.join('person_1_hongxi_day_1_data.mat'))\n",
    "print(data)"
   ]
  },
  {
   "cell_type": "code",
   "execution_count": 6,
   "metadata": {},
   "outputs": [
    {
     "data": {
      "text/html": [
       "<div>\n",
       "<style scoped>\n",
       "    .dataframe tbody tr th:only-of-type {\n",
       "        vertical-align: middle;\n",
       "    }\n",
       "\n",
       "    .dataframe tbody tr th {\n",
       "        vertical-align: top;\n",
       "    }\n",
       "\n",
       "    .dataframe thead th {\n",
       "        text-align: right;\n",
       "    }\n",
       "</style>\n",
       "<table border=\"1\" class=\"dataframe\">\n",
       "  <thead>\n",
       "    <tr style=\"text-align: right;\">\n",
       "      <th></th>\n",
       "      <th>0</th>\n",
       "      <th>1</th>\n",
       "      <th>2</th>\n",
       "    </tr>\n",
       "  </thead>\n",
       "  <tbody>\n",
       "    <tr>\n",
       "      <th>0</th>\n",
       "      <td>73.0</td>\n",
       "      <td>-0.443726</td>\n",
       "      <td>-1.317444</td>\n",
       "    </tr>\n",
       "    <tr>\n",
       "      <th>1</th>\n",
       "      <td>72.0</td>\n",
       "      <td>-0.441895</td>\n",
       "      <td>-1.345825</td>\n",
       "    </tr>\n",
       "    <tr>\n",
       "      <th>2</th>\n",
       "      <td>71.0</td>\n",
       "      <td>-0.444336</td>\n",
       "      <td>-1.373901</td>\n",
       "    </tr>\n",
       "    <tr>\n",
       "      <th>3</th>\n",
       "      <td>71.0</td>\n",
       "      <td>-0.437622</td>\n",
       "      <td>-1.402893</td>\n",
       "    </tr>\n",
       "    <tr>\n",
       "      <th>4</th>\n",
       "      <td>71.0</td>\n",
       "      <td>-0.427246</td>\n",
       "      <td>-1.432190</td>\n",
       "    </tr>\n",
       "    <tr>\n",
       "      <th>...</th>\n",
       "      <td>...</td>\n",
       "      <td>...</td>\n",
       "      <td>...</td>\n",
       "    </tr>\n",
       "    <tr>\n",
       "      <th>96207</th>\n",
       "      <td>64.0</td>\n",
       "      <td>0.001221</td>\n",
       "      <td>1.680298</td>\n",
       "    </tr>\n",
       "    <tr>\n",
       "      <th>96208</th>\n",
       "      <td>64.0</td>\n",
       "      <td>0.001221</td>\n",
       "      <td>1.669922</td>\n",
       "    </tr>\n",
       "    <tr>\n",
       "      <th>96209</th>\n",
       "      <td>63.0</td>\n",
       "      <td>-0.004272</td>\n",
       "      <td>1.657715</td>\n",
       "    </tr>\n",
       "    <tr>\n",
       "      <th>96210</th>\n",
       "      <td>63.0</td>\n",
       "      <td>-0.006104</td>\n",
       "      <td>1.643372</td>\n",
       "    </tr>\n",
       "    <tr>\n",
       "      <th>96211</th>\n",
       "      <td>63.0</td>\n",
       "      <td>-0.007935</td>\n",
       "      <td>1.626892</td>\n",
       "    </tr>\n",
       "  </tbody>\n",
       "</table>\n",
       "<p>96212 rows × 3 columns</p>\n",
       "</div>"
      ],
      "text/plain": [
       "          0         1         2\n",
       "0      73.0 -0.443726 -1.317444\n",
       "1      72.0 -0.441895 -1.345825\n",
       "2      71.0 -0.444336 -1.373901\n",
       "3      71.0 -0.437622 -1.402893\n",
       "4      71.0 -0.427246 -1.432190\n",
       "...     ...       ...       ...\n",
       "96207  64.0  0.001221  1.680298\n",
       "96208  64.0  0.001221  1.669922\n",
       "96209  63.0 -0.004272  1.657715\n",
       "96210  63.0 -0.006104  1.643372\n",
       "96211  63.0 -0.007935  1.626892\n",
       "\n",
       "[96212 rows x 3 columns]"
      ]
     },
     "metadata": {},
     "output_type": "display_data"
    }
   ],
   "source": [
    "hxp1d1 = pd.DataFrame(data['data'])\n",
    "display(hxp1d1)"
   ]
  },
  {
   "cell_type": "code",
   "execution_count": null,
   "metadata": {},
   "outputs": [],
   "source": []
  }
 ],
 "metadata": {
  "kernelspec": {
   "display_name": "base",
   "language": "python",
   "name": "python3"
  },
  "language_info": {
   "codemirror_mode": {
    "name": "ipython",
    "version": 3
   },
   "file_extension": ".py",
   "mimetype": "text/x-python",
   "name": "python",
   "nbconvert_exporter": "python",
   "pygments_lexer": "ipython3",
   "version": "3.9.7"
  },
  "orig_nbformat": 4,
  "vscode": {
   "interpreter": {
    "hash": "cd78fef2128015050713e82ca51c6520b11aee7c9ee8df750520bbbc7384cbaa"
   }
  }
 },
 "nbformat": 4,
 "nbformat_minor": 2
}
